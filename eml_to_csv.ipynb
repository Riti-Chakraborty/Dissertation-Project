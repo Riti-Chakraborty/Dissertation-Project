{
 "cells": [
  {
   "cell_type": "markdown",
   "metadata": {},
   "source": [
    "# Ref: https://github.com/lovasoa/eml2csv/blob/master/eml2csv.py\n",
    "This code has been taken from the above link. It helps in extracting the headers of each .eml files and storing them in a .csv file.\n",
    "To execute this code it is necessary to have a Unix/Linus operating system as it doesnot work in windows because the file extension is not supported onm windows.\n",
    "\n",
    "To run this code on linux/unix terminal the following script needs to be used\n",
    "\n",
    "#### python3 eml_to_csv.py *.eml outputfilename.csv"
   ]
  },
  {
   "cell_type": "code",
   "execution_count": null,
   "metadata": {},
   "outputs": [],
   "source": [
    "import email\n",
    "\n",
    "def email_to_dict(mail):\n",
    "    return {\n",
    "        k.capitalize(): str(email.header.make_header(email.header.decode_header(s)))\n",
    "        for k,s in mail.items()\n",
    "    }\n",
    "\n",
    "def file_to_dict(fname):\n",
    "    sub = fname.split('-', 1)[0]\n",
    "    with open(fname, 'r') as f:\n",
    "        try: return email_to_dict(email.message_from_file(f))\n",
    "        except: return {\"Subject\": sub}\n",
    "\n",
    "def print_line(l):\n",
    "    for s in l:\n",
    "        print('\"' + s.replace('\"', '\"\"').replace('\\n', ' ') + '\"', end=',')\n",
    "    print(\"\")\n",
    "\n",
    "def files_to_csv(fnames):\n",
    "    headers = dict()\n",
    "    d = []\n",
    "    for fname in fnames:\n",
    "        vals = file_to_dict(fname)\n",
    "        for header in vals.keys(): headers[header] = headers.get(header,0) + 1\n",
    "        d.append(vals)\n",
    "    headers = sorted(headers, key=headers.get, reverse=True)\n",
    "    print_line(headers)\n",
    "    for mail in d:\n",
    "        print_line(map(lambda x: mail.get(x, \"\"), headers))\n",
    "\n",
    "if __name__ == '__main__':\n",
    "    import sys\n",
    "    files_to_csv(sys.argv[1:])"
   ]
  }
 ],
 "metadata": {
  "kernelspec": {
   "display_name": "Python 3",
   "language": "python",
   "name": "python3"
  },
  "language_info": {
   "codemirror_mode": {
    "name": "ipython",
    "version": 3
   },
   "file_extension": ".py",
   "mimetype": "text/x-python",
   "name": "python",
   "nbconvert_exporter": "python",
   "pygments_lexer": "ipython3",
   "version": "3.6.4"
  }
 },
 "nbformat": 4,
 "nbformat_minor": 2
}
